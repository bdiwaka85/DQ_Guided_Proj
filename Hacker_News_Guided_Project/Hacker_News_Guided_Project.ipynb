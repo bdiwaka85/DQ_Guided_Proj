{
 "cells": [
  {
   "cell_type": "markdown",
   "metadata": {},
   "source": [
    "## Insights about user posts - Hackernews Forum Posts analysis\n",
    "---\n",
    "This is a guided project from Dataquest.IO course. The dataset we are working with is csv file having posts from HackerNews forum in year 2016. My objectives here are:\n",
    "- categorize the posts\n",
    "- find statistical data like how many posts per hour\n",
    "- on an average how many users reply to posts etc"
   ]
  },
  {
   "cell_type": "code",
   "execution_count": 1,
   "metadata": {},
   "outputs": [
    {
     "name": "stdout",
     "output_type": "stream",
     "text": [
      "[['id', 'title', 'url', 'num_points', 'num_comments', 'author', 'created_at']]\n"
     ]
    }
   ],
   "source": [
    "# added new code to detect the encoding using chardet and then open the file again using context manager method to read\n",
    "\n",
    "import chardet\n",
    "with open(\"hacker_news.csv\", mode = 'rb') as file:\n",
    "    en_code = chardet.detect(file.read(800))['encoding']\n",
    "\n",
    "#use en_code variable from above which holds the encoding value to decode the file.\n",
    "#once the file is read, split the heading row from rest of the data.\n",
    "import csv as c\n",
    "with open(\"hacker_news.csv\", encoding = en_code) as file:\n",
    "    hn = [row for row in list(c.reader(file))]\n",
    "headers = hn[:1]\n",
    "hn = hn[1:]\n",
    "# printing the row heading for future reference\n",
    "print (headers)"
   ]
  },
  {
   "cell_type": "code",
   "execution_count": 2,
   "metadata": {},
   "outputs": [
    {
     "name": "stdout",
     "output_type": "stream",
     "text": [
      "The average comments per ask post is 10\n",
      "The average comments per show post is 5\n"
     ]
    }
   ],
   "source": [
    "#Based on the title of the posts classify the posts as Ask, Show or others.\n",
    "ask_posts = []\n",
    "show_posts = []\n",
    "other_posts = []\n",
    "\n",
    "for row in hn:\n",
    "    title = row[1].lower()\n",
    "    if title.startswith(\"ask\"):\n",
    "        ask_posts.append(row)\n",
    "    elif title.startswith(\"show\"):\n",
    "        show_posts.append(row)\n",
    "    else:\n",
    "        other_posts.append(row)\n",
    "\n",
    "#calculating the total comments posted in the ask posts list based on num_comments field\n",
    "\n",
    "#ask post statistics\n",
    "total_ask_comments = 0\n",
    "for row in ask_posts:\n",
    "    num_comments_ask = int(row[4])\n",
    "    total_ask_comments = total_ask_comments + num_comments_ask\n",
    "\n",
    "avg_ask_comments = round (total_ask_comments / len(ask_posts))\n",
    "print(\"The average comments per ask post is\", avg_ask_comments)\n",
    "\n",
    "#show post statistics\n",
    "total_show_comments = 0\n",
    "for row in show_posts:\n",
    "    num_comments_show = int(row[4])\n",
    "    total_show_comments = total_show_comments + num_comments_show\n",
    "\n",
    "avg_show_comments = round (total_show_comments / len(show_posts))\n",
    "print(\"The average comments per show post is\", avg_show_comments)"
   ]
  },
  {
   "cell_type": "markdown",
   "metadata": {},
   "source": [
    "## Insight\n",
    "- On an average there is atleast 10 comments per post in the Ask HN forum thread of the Hacker News.\n",
    "- The Show HN is having only half the number of average comments.\n",
    "- It appears users are more active in answering a question."
   ]
  },
  {
   "cell_type": "code",
   "execution_count": 3,
   "metadata": {},
   "outputs": [
    {
     "name": "stdout",
     "output_type": "stream",
     "text": [
      "Top 5 Hours for Ask Posts Comments\n",
      "15:00 : 28.46 average comments per post\n",
      "13:00 : 16.17 average comments per post\n",
      "12:00 : 12.19 average comments per post\n",
      "02:00 : 11.06 average comments per post\n",
      "10:00 : 10.52 average comments per post\n"
     ]
    }
   ],
   "source": [
    "import datetime as dt\n",
    "result_list = []\n",
    "for row in ask_posts:\n",
    "    result_list.append([row[6], int(row[4])])\n",
    "\n",
    "counts_by_hour = {}\n",
    "comments_by_hour = {}\n",
    "\n",
    "for row in result_list:\n",
    "    datetime = dt.datetime.strptime(row[0], \"%m/%d/%Y %H:%M\")\n",
    "    hour = datetime.strftime(\"%H\")\n",
    "    if hour not in counts_by_hour:\n",
    "        counts_by_hour[hour] = 1\n",
    "        comments_by_hour[hour] = row[1]\n",
    "    else:\n",
    "        counts_by_hour[hour] += 1\n",
    "        comments_by_hour[hour] = comments_by_hour[hour] + row[1]\n",
    "\n",
    "avg_by_hour = []\n",
    "for each in comments_by_hour:\n",
    "    avg_by_hour.append([each, (comments_by_hour[each] / counts_by_hour[each])])\n",
    "\n",
    "swap_avg_by_hour = [[each[1],each[0]] for each in avg_by_hour]\n",
    "sorted_swap = sorted(swap_avg_by_hour, reverse = True)\n",
    "\n",
    "print (\"Top 5 Hours for Ask Posts Comments\")\n",
    "for row in sorted_swap[:5]:\n",
    "    hour_dt = dt.datetime.strptime(row[1], \"%H\")\n",
    "    hour_str = hour_dt.strftime(\"%H:00\")\n",
    "    print ((\"{} : {:.2f} average comments per post\").format(hour_str, row[0]))"
   ]
  },
  {
   "cell_type": "markdown",
   "metadata": {},
   "source": [
    "## Insight\n",
    "- It looks like the users from all over the world are posting comments in the forums.\n",
    "- But based on the top 3 average comments posted it does look like the afternoon of HackerNews servertime there is a lot of activity.\n",
    "- One explanation could be HackerNews staff themselves replying to lots of comments or academic students browsing after school hours etc."
   ]
  },
  {
   "cell_type": "code",
   "execution_count": 4,
   "metadata": {},
   "outputs": [
    {
     "name": "stdout",
     "output_type": "stream",
     "text": [
      "The total number of ask posts are 9269\n",
      "The average point per ask post is 11\n",
      "\n",
      "The total number of show posts are 10218\n",
      "The average point per show post is 15\n"
     ]
    }
   ],
   "source": [
    "#Determine if show or ask posts receive more points on average.\n",
    "total_ask_points = 0\n",
    "for row in ask_posts:\n",
    "    num_points_ask = int(row[3])\n",
    "    total_ask_points = total_ask_points + num_points_ask\n",
    "\n",
    "avg_ask_points = round (total_ask_points / len(ask_posts))\n",
    "print (\"The total number of ask posts are\", len(ask_posts))\n",
    "print(\"The average point per ask post is\", avg_ask_points)\n",
    "\n",
    "total_show_points = 0\n",
    "for row in show_posts:\n",
    "    num_points_show = int(row[3])\n",
    "    total_show_points = total_show_points + num_points_show\n",
    "\n",
    "avg_show_points = round (total_show_points / len(show_posts))\n",
    "print(\"\")\n",
    "print (\"The total number of show posts are\", len(show_posts))\n",
    "print(\"The average point per show post is\", avg_show_points)"
   ]
  },
  {
   "cell_type": "markdown",
   "metadata": {},
   "source": [
    "## Insight\n",
    "\n",
    "- The total number of ask and show posts are almost the same.\n",
    "- Even then the average point per show post is greater than ask by 4 points.\n",
    "- This suggests that the community as a whole is interested in learning/commenting new information.\n",
    "- The earlier example showed that there is 2 times average comments received per ask post.\n",
    "- But here show posts are getting more points. This could mean given a set of active users at a time few may not be actively commenting so as to reduce the count of duplicate posts. \n",
    "- This can further confirmed if we are to cross verify active users for a given time and posts made / comments received."
   ]
  },
  {
   "cell_type": "code",
   "execution_count": 19,
   "metadata": {},
   "outputs": [],
   "source": [
    "#Determine if posts created at a certain time are more likely to receive more points.\n",
    "\n",
    "\n",
    "\n",
    "\n",
    "#Compare your results to the average number of comments and points other posts receive."
   ]
  },
  {
   "cell_type": "code",
   "execution_count": null,
   "metadata": {},
   "outputs": [],
   "source": []
  }
 ],
 "metadata": {
  "kernelspec": {
   "display_name": "Python 3",
   "language": "python",
   "name": "python3"
  },
  "language_info": {
   "codemirror_mode": {
    "name": "ipython",
    "version": 3
   },
   "file_extension": ".py",
   "mimetype": "text/x-python",
   "name": "python",
   "nbconvert_exporter": "python",
   "pygments_lexer": "ipython3",
   "version": "3.7.6"
  }
 },
 "nbformat": 4,
 "nbformat_minor": 4
}
